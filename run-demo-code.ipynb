{
 "cells": [
  {
   "cell_type": "markdown",
   "metadata": {},
   "source": [
    "Testing the waters with the classic `Hello World`"
   ]
  },
  {
   "cell_type": "code",
   "execution_count": null,
   "metadata": {
    "dotnet_interactive": {
     "language": "csharp"
    }
   },
   "outputs": [],
   "source": [
    "using System;\r\n",
    "\r\n",
    "Console.WriteLine(\"Hello World\");"
   ]
  },
  {
   "cell_type": "markdown",
   "metadata": {},
   "source": [
    "Let's do something slightly more advanced and enumerate some files in a local directory?"
   ]
  },
  {
   "cell_type": "code",
   "execution_count": null,
   "metadata": {
    "dotnet_interactive": {
     "language": "csharp"
    }
   },
   "outputs": [
    {
     "data": {
      "text/plain": "File name: C:\\Users\\chmatsk\\Downloads\\active-directory-aspnetcore-webapp-openidconnect-v2-aspnetcore3-1.zip\r\n"
     },
     "output_type": "unknown"
    },
    {
     "data": {
      "text/plain": "File name: C:\\Users\\chmatsk\\Downloads\\aspnetcore-runtime-6.0.0-preview.4.21253.5-win-x64.exe\r\n"
     },
     "output_type": "unknown"
    },
    {
     "data": {
      "text/plain": "File name: C:\\Users\\chmatsk\\Downloads\\audacity-win-3.0.2.exe\r\n"
     },
     "output_type": "unknown"
    },
    {
     "data": {
      "text/plain": "File name: C:\\Users\\chmatsk\\Downloads\\ChristosMatskas - 26 Motivating Inspirer (Classic) (1).pdf\r\n"
     },
     "output_type": "unknown"
    },
    {
     "data": {
      "text/plain": "File name: C:\\Users\\chmatsk\\Downloads\\ChristosMatskas - 26 Motivating Inspirer (Classic).pdf\r\n"
     },
     "output_type": "unknown"
    },
    {
     "data": {
      "text/plain": "File name: C:\\Users\\chmatsk\\Downloads\\desktop.ini\r\n"
     },
     "output_type": "unknown"
    },
    {
     "data": {
      "text/plain": "File name: C:\\Users\\chmatsk\\Downloads\\dotnet-sdk-6.0.100-preview.4.21255.9-win-x64.exe\r\n"
     },
     "output_type": "unknown"
    },
    {
     "data": {
      "text/plain": "File name: C:\\Users\\chmatsk\\Downloads\\Engagement_2021-05-01_2021-05-31_christosmatskas.zip\r\n"
     },
     "output_type": "unknown"
    },
    {
     "data": {
      "text/plain": "File name: C:\\Users\\chmatsk\\Downloads\\image009.emz\r\n"
     },
     "output_type": "unknown"
    },
    {
     "data": {
      "text/plain": "File name: C:\\Users\\chmatsk\\Downloads\\Insights_Colour_Blocks_Virtual.zip\r\n"
     },
     "output_type": "unknown"
    },
    {
     "data": {
      "text/plain": "File name: C:\\Users\\chmatsk\\Downloads\\ms-identity-javascript-v2-master.zip\r\n"
     },
     "output_type": "unknown"
    },
    {
     "data": {
      "text/plain": "File name: C:\\Users\\chmatsk\\Downloads\\SOW - Case Study Microsoft Identity Services - MedInformatix - AIM Consulting v2.docx\r\n"
     },
     "output_type": "unknown"
    },
    {
     "data": {
      "text/plain": "File name: C:\\Users\\chmatsk\\Downloads\\SoW for AIM case study.docx\r\n"
     },
     "output_type": "unknown"
    },
    {
     "data": {
      "text/plain": "File name: C:\\Users\\chmatsk\\Downloads\\tweet_activity_metrics_ChristosMatskas_20210501_20210601_en.csv\r\n"
     },
     "output_type": "unknown"
    },
    {
     "data": {
      "text/plain": "File name: C:\\Users\\chmatsk\\Downloads\\video_activity_metrics_ChristosMatskas_20210501_20210531_en.csv\r\n"
     },
     "output_type": "unknown"
    }
   ],
   "source": [
    "using System.IO;\r\n",
    "\r\n",
    "foreach (var fileName in Directory.EnumerateFiles(@\"C:\\Users\\chmatsk\\Downloads\", \"*.*\"))\r\n",
    "{\r\n",
    "    // Do something with the file content - like read them!\r\n",
    "    //var contents  = File.ReadAllLines(fileName);\r\n",
    "    Console.WriteLine($\"File name: {fileName}\");\r\n",
    "}"
   ]
  },
  {
   "cell_type": "markdown",
   "metadata": {},
   "source": [
    "Need to call a REST API? Perfect. Let's test this using the Rick and Morty API :) 🔥"
   ]
  },
  {
   "cell_type": "code",
   "execution_count": null,
   "metadata": {
    "dotnet_interactive": {
     "language": "csharp"
    }
   },
   "outputs": [],
   "source": [
    "using System.Net.Http;\r\n",
    "\r\n",
    "var httpClient = new HttpClient();\r\n",
    "var data = await httpClient.GetStringAsync(\"https://rickandmortyapi.com/api/character\");\r\n",
    "Console.WriteLine(data);"
   ]
  }
 ],
 "metadata": {
  "kernelspec": {
   "display_name": ".NET (C#)",
   "language": "C#",
   "name": ".net-csharp"
  },
  "language_info": {
   "file_extension": ".cs",
   "mimetype": "text/x-csharp",
   "name": "C#",
   "pygments_lexer": "csharp",
   "version": "9.0"
  }
 },
 "nbformat": 4,
 "nbformat_minor": 2
}