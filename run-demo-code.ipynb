{
 "cells": [
  {
   "cell_type": "markdown",
   "metadata": {},
   "source": [
    "Testing the waters with the classic `Hello World`"
   ]
  },
  {
   "cell_type": "code",
   "execution_count": null,
   "metadata": {
    "dotnet_interactive": {
     "language": "csharp"
    }
   },
   "outputs": [],
   "source": [
    "using System;\r\n",
    "\r\n",
    "Console.WriteLine(\"Hello World\");"
   ]
  },
  {
   "cell_type": "markdown",
   "metadata": {},
   "source": [
    "Let's do something slightly more advanced and enumerate some files in a local directory?"
   ]
  },
  {
   "cell_type": "code",
   "execution_count": null,
   "metadata": {
    "dotnet_interactive": {
     "language": "csharp"
    }
   },
   "outputs": [],
   "source": [
    "using System.IO;\r\n",
    "\r\n",
    "foreach (var fileName in Directory.EnumerateFiles(@\"C:\\Users\\chmatsk\\Downloads\", \"*.*\"))\r\n",
    "{\r\n",
    "    // Do something with the file content - like read them!\r\n",
    "    //var contents  = File.ReadAllLines(fileName);\r\n",
    "    Console.WriteLine($\"File name: {fileName}\");\r\n",
    "}"
   ]
  },
  {
   "cell_type": "markdown",
   "metadata": {},
   "source": [
    "Need to call a REST API? Perfect. Let's test this using the Rick and Morty API :) 🔥"
   ]
  },
  {
   "cell_type": "code",
   "execution_count": null,
   "metadata": {
    "dotnet_interactive": {
     "language": "csharp"
    }
   },
   "outputs": [],
   "source": [
    "using System.Net.Http;\r\n",
    "\r\n",
    "var httpClient = new HttpClient();\r\n",
    "var data = await httpClient.GetStringAsync(\"https://rickandmortyapi.com/api/character\");\r\n",
    "Console.WriteLine(data);"
   ]
  }
 ],
 "metadata": {
  "kernelspec": {
   "display_name": ".NET (C#)",
   "language": "C#",
   "name": ".net-csharp"
  },
  "language_info": {
   "file_extension": ".cs",
   "mimetype": "text/x-csharp",
   "name": "C#",
   "pygments_lexer": "csharp",
   "version": "9.0"
  },
  "metadata": {
   "interpreter": {
    "hash": "46836f0b8db53d30ccb664c896c16b892b04a6b7eea787284724568087684dae"
   }
  },
  "orig_nbformat": 2
 },
 "nbformat": 4,
 "nbformat_minor": 2
}