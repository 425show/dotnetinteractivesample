{
 "cells": [
  {
   "cell_type": "markdown",
   "metadata": {},
   "source": [
    "### Prerequisites\r\n",
    "\r\n",
    "To run this .NET Interactive run book, you need a create an AppRegistration in Azure AD with the following settings\r\n",
    "- Authentication -> Platform: Mobile and Desktop\r\n",
    "- Authentication -> Platform -> RedirectUris: Msal...\r\n",
    "- Authentication -> Supported Account Types: Single Tenant\r\n",
    "- Authentication -> Advanced Settings -> Allow public client flows: True\r\n",
    "- Press **Save**\r\n",
    "\r\n",
    "- API Permissions -> Add a Permission -> Delegated Permisions -> MS Graph: `Application.ReadWrite.All`"
   ]
  },
  {
   "cell_type": "markdown",
   "metadata": {},
   "source": [
    "We start by importing the necessary NuGet packages to be used throughout this runbook"
   ]
  },
  {
   "cell_type": "code",
   "execution_count": null,
   "metadata": {
    "dotnet_interactive": {
     "language": "csharp"
    }
   },
   "outputs": [],
   "source": [
    "#r \"nuget:Microsoft.Graph,3.32.0\"\r\n",
    "#r \"nuget:Microsoft.Identity.Client,4.31.0\"\r\n",
    "#r \"nuget:Microsoft.Graph.Auth,1.0.0-preview.7\""
   ]
  },
  {
   "cell_type": "markdown",
   "metadata": {},
   "source": [
    "### Create the MSAL Client\r\n",
    "Ensure that you add the appropriate `usings` so that we can interact with Graph and AAD.\r\n",
    "\r\n",
    "Instantiate the MSAL Client to authenticate against AAD and get the right Graph Permissions.\r\n",
    "The MSAL Client requires the 2 following properties:\r\n",
    "- `ClientID` (From the Overview tab of your AAD App Registration)\r\n",
    "- `TenantID` (From the Overview tab. Can be the tenant id [Guid] or the tenant name)"
   ]
  },
  {
   "cell_type": "code",
   "execution_count": null,
   "metadata": {
    "dotnet_interactive": {
     "language": "csharp"
    }
   },
   "outputs": [],
   "source": [
    "using Microsoft.Identity.Client;\r\n",
    "using System.Threading.Tasks;\r\n",
    "using Microsoft.Graph.Auth;\r\n",
    "\r\n",
    "public static DeviceCodeProvider GetMsalClient()\r\n",
    "{\r\n",
    "    var clientId = \"18e9ac17-ae4b-4cea-aeb8-cb25a68e6867\";\r\n",
    "    var tenantId = \"b55f0c51-61a7-45c3-84df-33569b247796\";\r\n",
    "    \r\n",
    "    IPublicClientApplication publicClientApplication = PublicClientApplicationBuilder\r\n",
    "        .Create(clientId)\r\n",
    "        .WithTenantId(tenantId)\r\n",
    "        .Build();\r\n",
    "    var scopes = new string[]{\"Files.ReadWrite\"};\r\n",
    "    return new DeviceCodeProvider(publicClientApplication, scopes);\r\n",
    "}"
   ]
  },
  {
   "cell_type": "markdown",
   "metadata": {},
   "source": [
    "### Upload a large file using the Graph SDK\r\n",
    "\r\n",
    "Make sure to update the `filepath` with your file location."
   ]
  },
  {
   "cell_type": "code",
   "execution_count": null,
   "metadata": {
    "dotnet_interactive": {
     "language": "csharp"
    }
   },
   "outputs": [],
   "source": [
    "using Microsoft.Graph;\r\n",
    "\r\n",
    "var filePath = @\"C:\\Users\\chmatsk\\Downloads\\2021-06-01 16-29-34.mp4\";\r\n",
    "var graphClient = new GraphServiceClient(GetMsalClient());\r\n",
    "\r\n",
    "using (var fileStream = System.IO.File.OpenRead(filePath))\r\n",
    "{\r\n",
    "    // Use properties to specify the conflict behavior\r\n",
    "    // in this case, replace\r\n",
    "    var uploadProps = new DriveItemUploadableProperties\r\n",
    "    {\r\n",
    "        ODataType = null,\r\n",
    "        AdditionalData = new Dictionary<string, object>\r\n",
    "        {\r\n",
    "            { \"@microsoft.graph.conflictBehavior\", \"replace\" }\r\n",
    "        }\r\n",
    "    };\r\n",
    "\r\n",
    "    var uploadSession = await graphClient.Me.Drive.Root\r\n",
    "        .ItemWithPath(System.IO.Path.GetFileName(filePath))\r\n",
    "        .CreateUploadSession(uploadProps)\r\n",
    "        .Request()\r\n",
    "        .PostAsync();\r\n",
    "\r\n",
    "    // Max slice size must be a multiple of 320 KiB\r\n",
    "    int maxSliceSize = 320 * 1024;\r\n",
    "    var fileUploadTask =\r\n",
    "        new LargeFileUploadTask<DriveItem>(uploadSession, fileStream, maxSliceSize);\r\n",
    "\r\n",
    "    // Create a callback that is invoked after each slice is uploaded\r\n",
    "    IProgress<long> progress = new Progress<long>(prog => {\r\n",
    "        Console.WriteLine($\"Uploaded {prog} bytes of {fileStream.Length} bytes\");\r\n",
    "    });\r\n",
    "\r\n",
    "    try\r\n",
    "    {\r\n",
    "        // Upload the file\r\n",
    "        var uploadResult = await fileUploadTask.UploadAsync(progress);\r\n",
    "\r\n",
    "        if (uploadResult.UploadSucceeded)\r\n",
    "        {\r\n",
    "            // The ItemResponse object in the result represents the\r\n",
    "            // created item.\r\n",
    "            Console.WriteLine($\"Upload complete, item ID: {uploadResult.ItemResponse.Id}\");\r\n",
    "        }\r\n",
    "        else\r\n",
    "        {\r\n",
    "            Console.WriteLine(\"Upload failed\");\r\n",
    "        }\r\n",
    "    }\r\n",
    "    catch (ServiceException ex)\r\n",
    "    {\r\n",
    "        Console.WriteLine($\"Error uploading: {ex.ToString()}\");\r\n",
    "    }\r\n",
    "}"
   ]
  }
 ],
 "metadata": {
  "kernelspec": {
   "display_name": ".NET (C#)",
   "language": "C#",
   "name": ".net-csharp"
  },
  "language_info": {
   "file_extension": ".cs",
   "mimetype": "text/x-csharp",
   "name": "C#",
   "pygments_lexer": "csharp",
   "version": "9.0"
  }
 },
 "nbformat": 4,
 "nbformat_minor": 2
}