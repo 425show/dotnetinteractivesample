{
 "cells": [
  {
   "cell_type": "markdown",
   "metadata": {},
   "source": [
    "### Prerequisites\n",
    "\n",
    "To run this .NET Interactive run book, you need a create an AppRegistration in Azure AD with the following settings\n",
    "- Authentication -> Platform: Mobile and Desktop\n",
    "- Authentication -> Platform -> RedirectUris: Msal...\n",
    "- Authentication -> Supported Account Types: Single Tenant\n",
    "- Authentication -> Advanced Settings -> Allow public client flows: True\n",
    "- Press **Save**\n",
    "\n",
    "- API Permissions -> Add a Permission -> Delegated Permisions -> MS Graph: `Application.ReadWrite.All`"
   ]
  },
  {
   "cell_type": "markdown",
   "metadata": {},
   "source": [
    "We start by importing the necessary NuGet packages to be used throughout this runbook"
   ]
  },
  {
   "cell_type": "code",
   "execution_count": null,
   "metadata": {
    "dotnet_interactive": {
     "language": "csharp"
    },
    "vscode": {
     "languageId": "dotnet-interactive.csharp"
    }
   },
   "outputs": [],
   "source": [
    "#r \"nuget:Microsoft.Graph,4.25.0\"\n",
    "#r \"nuget:Azure.Identity,1.6.0\""
   ]
  },
  {
   "cell_type": "code",
   "execution_count": null,
   "metadata": {
    "dotnet_interactive": {
     "language": "csharp"
    },
    "vscode": {
     "languageId": "dotnet-interactive.csharp"
    }
   },
   "outputs": [],
   "source": [
    "using Microsoft.Graph;\n",
    "using Azure.Identity;\n",
    "\n",
    "var browserCreds = new InteractiveBrowserCredential( new InteractiveBrowserCredentialOptions\n",
    "{\n",
    "    TenantId = \"b55f0c51-61a7-45c3-84df-33569b247796\",\n",
    "    ClientId = \"7537790f-b619-4d30-a804-1c6b8b7f1523\"\n",
    "});\n",
    "\n",
    "var scopes= new [] {\"Application.ReadWrite.All\", \"User.Read\" };\n",
    "var graphClient = new GraphServiceClient(browserCreds, scopes);"
   ]
  },
  {
   "cell_type": "markdown",
   "metadata": {},
   "source": [
    "### Create an API App Registration in Azure AD\n",
    "\n",
    "Right now the scope is hardcoded to `api.read`. Feel free to change this to meet your needs"
   ]
  },
  {
   "cell_type": "code",
   "execution_count": null,
   "metadata": {
    "dotnet_interactive": {
     "language": "csharp"
    },
    "vscode": {
     "languageId": "dotnet-interactive.csharp"
    }
   },
   "outputs": [],
   "source": [
    "var appName = \"CM Demo API\";\n",
    "var apiScopeName = \"api.read\";\n",
    "var scopeConsentMessage = \"access the api as a reader\";\n",
    "\n",
    "var apiApp = GetApiApplication(appName, scopeConsentMessage, apiScopeName);\n",
    "\n",
    "var apiAppRegistration = await graphClient.Applications\n",
    "                            .Request()\n",
    "                            .AddAsync(apiApp);\n",
    "\n",
    "private async Task<string> GetTenantId()\n",
    "{\n",
    "    var organization = await graphClient.Organization\n",
    "                                .Request()\n",
    "                                .GetAsync();\n",
    "    return organization.FirstOrDefault().Id;\n",
    "}\n",
    "\n",
    "Console.WriteLine($\"Client Id: {apiAppRegistration.AppId}\");\n",
    "Console.WriteLine($\"Domain: {apiAppRegistration.PublisherDomain}\");\n",
    "Console.WriteLine($\"Tenant Id: {await GetTenantId()}\");\n",
    "\n",
    "private static Application GetApiApplication(\n",
    "    string displayName, \n",
    "    string consentMessage,\n",
    "    string scopeName) => new Application\n",
    "{\n",
    "    DisplayName = displayName,\n",
    "    IdentifierUris = new List<String>()\n",
    "    {\n",
    "        \"api://cm-demo\"\n",
    "    },\n",
    "    Api = new ApiApplication\n",
    "    {\n",
    "        AcceptMappedClaims = null,\n",
    "        KnownClientApplications = new List<Guid>()\n",
    "        {\n",
    "        },\n",
    "        RequestedAccessTokenVersion = 2,\n",
    "        Oauth2PermissionScopes = new List<PermissionScope>()\n",
    "        {\n",
    "            new PermissionScope\n",
    "            {\n",
    "                Id = Guid.NewGuid(),\n",
    "                AdminConsentDescription = consentMessage,\n",
    "                AdminConsentDisplayName = consentMessage,\n",
    "                IsEnabled = true,\n",
    "                Type = \"User\",\n",
    "                UserConsentDescription = consentMessage,\n",
    "                UserConsentDisplayName = consentMessage,\n",
    "                Value = scopeName\n",
    "            }\n",
    "        },\n",
    "        PreAuthorizedApplications = new List<PreAuthorizedApplication>()\n",
    "        {\n",
    "        }\n",
    "    }\n",
    "};"
   ]
  },
  {
   "cell_type": "markdown",
   "metadata": {},
   "source": [
    "### Create the Service Principal\n",
    "Next we need to create a Service Principal that maps to the App Registration. \n",
    "This registers the app with the current Tenant and make the App Registration available to \n",
    "the tenant's apps and users to authenticate against and/or acquire tokens."
   ]
  },
  {
   "cell_type": "code",
   "execution_count": null,
   "metadata": {
    "dotnet_interactive": {
     "language": "csharp"
    },
    "vscode": {
     "languageId": "dotnet-interactive.csharp"
    }
   },
   "outputs": [],
   "source": [
    "var servicePrincipal = await graphClient.ServicePrincipals\n",
    "                            .Request()\n",
    "                            .AddAsync(CreateServicePrincipal(apiAppRegistration.AppId));\n",
    "\n",
    "private static ServicePrincipal CreateServicePrincipal(string appId) => new ServicePrincipal\n",
    "{\n",
    "    AppId = appId\n",
    "};"
   ]
  },
  {
   "cell_type": "markdown",
   "metadata": {},
   "source": [
    "### App Registration\n",
    "Create a client App Registration for a server-side **web app** (.NET, Node, Java etc).\n",
    "\n",
    "Users signing in to the client app, will be able to request an access token for the API.\n",
    "You'll need to set the following two properties before running this script:\n",
    "- `clientAppName` -> the name for your App Registration\n",
    "- `redirectUri` -> the URI where your app expects the returned tokens. For OpenAPI the expected Redirect URI \n",
    " is `https://localhost:5001/swagger/oauth2-redirect.html`"
   ]
  },
  {
   "cell_type": "code",
   "execution_count": null,
   "metadata": {
    "dotnet_interactive": {
     "language": "csharp"
    },
    "vscode": {
     "languageId": "dotnet-interactive.csharp"
    }
   },
   "outputs": [],
   "source": [
    "using Microsoft.Graph;\n",
    "\n",
    "var clientAppName = \"CM SPA Demo\";\n",
    "var redirectUri = \"https://localhost/index.js\";\n",
    "\n",
    "var clientApp = GetClientApplication(\n",
    "    apiAppRegistration,\n",
    "    clientAppName,\n",
    "    redirectUri);\n",
    "\n",
    "var clientAppRegistration = await graphClient.Applications\n",
    "                                .Request()\n",
    "                                .AddAsync(clientApp);\n",
    "\n",
    "Console.WriteLine($\"Client Id: {clientAppRegistration.AppId}\");\n",
    "\n",
    "private static Application GetClientApplication(\n",
    "    Application app,\n",
    "    string displayName, \n",
    "    string redirectUri) => new Application\n",
    "{\n",
    "    DisplayName = displayName,\n",
    "    Spa = new SpaApplication\n",
    "    {\n",
    "        RedirectUris = new List<string>(){redirectUri}\n",
    "    },\n",
    "    RequiredResourceAccess = new List<RequiredResourceAccess>()\n",
    "    {\n",
    "        new RequiredResourceAccess\n",
    "        {\n",
    "            ResourceAppId = app.AppId,\n",
    "            ResourceAccess = new List<ResourceAccess>()\n",
    "            {\n",
    "                new ResourceAccess\n",
    "                {\n",
    "                    Id = app.Api.Oauth2PermissionScopes.FirstOrDefault().Id,\n",
    "                    Type = \"Scope\"\n",
    "                }\n",
    "            }\n",
    "        },\n",
    "        new RequiredResourceAccess\n",
    "        {\n",
    "            // OIDC - Graph scope (user.read)\n",
    "            ResourceAppId = \"00000003-0000-0000-c000-000000000000\",\n",
    "            ResourceAccess = new List<ResourceAccess>()\n",
    "            {\n",
    "                new ResourceAccess\n",
    "                {     \n",
    "                    Id = new Guid(\"e1fe6dd8ba314d6189e788639da4683d\"),\n",
    "                    Type = \"Scope\"\n",
    "                }\n",
    "            }\n",
    "        }\n",
    "    } \n",
    "};"
   ]
  }
 ],
 "metadata": {
  "kernelspec": {
   "display_name": ".NET (C#)",
   "language": "C#",
   "name": ".net-csharp"
  },
  "language_info": {
   "name": "C#"
  }
 },
 "nbformat": 4,
 "nbformat_minor": 2
}
