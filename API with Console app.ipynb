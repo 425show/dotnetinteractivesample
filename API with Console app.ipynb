{
 "cells": [
  {
   "cell_type": "markdown",
   "source": [
    "### Prerequisites\r\n",
    "\r\n",
    "To run this .NET Interactive run book, you need a create an AppRegistration in Azure AD with the following settings\r\n",
    "- Authentication -> Platform: Mobile and Desktop\r\n",
    "- Authentication -> Platform -> RedirectUris: Msal...\r\n",
    "- Authentication -> Supported Account Types: Single Tenant\r\n",
    "- Authentication -> Advanced Settings -> Allow public client flows: True\r\n",
    "- Press **Save**\r\n",
    "\r\n",
    "- API Permissions -> Add a Permission -> Delegated Permisions -> MS Graph: `Application.ReadWrite.All`"
   ],
   "metadata": {}
  },
  {
   "cell_type": "markdown",
   "source": [
    "We start by importing the necessary NuGet packages to be used throughout this runbook"
   ],
   "metadata": {}
  },
  {
   "cell_type": "code",
   "execution_count": null,
   "source": [
    "#r \"nuget:Microsoft.Graph,3.32.0\"\r\n",
    "#r \"nuget:Microsoft.Identity.Client,4.31.0\"\r\n",
    "#r \"nuget:Microsoft.Graph.Auth,1.0.0-preview.7\""
   ],
   "outputs": [],
   "metadata": {
    "dotnet_interactive": {
     "language": "csharp"
    }
   }
  },
  {
   "cell_type": "markdown",
   "source": [
    "### Create the MSAL Client\r\n",
    "Ensure that you add the appropriate `usings` so that we can interact with Graph and AAD.\r\n",
    "\r\n",
    "Instantiate the MSAL Client to authenticate against AAD and get the right Graph Permissions.\r\n",
    "The MSAL Client requires the 2 following properties:\r\n",
    "- `ClientID` (From the Overview tab of your AAD App Registration)\r\n",
    "- `TenantID` (From the Overview tab. Can be the tenant id [Guid] or the tenant name)"
   ],
   "metadata": {}
  },
  {
   "cell_type": "code",
   "execution_count": null,
   "source": [
    "using Microsoft.Identity.Client;\r\n",
    "using System.Threading.Tasks;\r\n",
    "using Microsoft.Graph.Auth;\r\n",
    "\r\n",
    "public static DeviceCodeProvider GetMsalClient()\r\n",
    "{\r\n",
    "    var clientId = \"c369fdb7-d70b-4651-9e5c-4379c3863d78\";\r\n",
    "    var tenantId = \"b55f0c51-61a7-45c3-84df-33569b247796\";\r\n",
    "    \r\n",
    "    IPublicClientApplication publicClientApplication = PublicClientApplicationBuilder\r\n",
    "        .Create(clientId)\r\n",
    "        .WithTenantId(tenantId)\r\n",
    "        .Build();\r\n",
    "    var scopes = new string[]{\"Application.ReadWrite.All\", \"User.Read\"};\r\n",
    "    return new DeviceCodeProvider(publicClientApplication, scopes);\r\n",
    "}"
   ],
   "outputs": [],
   "metadata": {
    "dotnet_interactive": {
     "language": "csharp"
    }
   }
  },
  {
   "cell_type": "markdown",
   "source": [
    "### Create an API App Registration in Azure AD\r\n",
    "\r\n",
    "Since we will be authenticating a daemon/headless app with no user interaction\r\n",
    "we can't use scopes. In Azure AD, we use Application-only app roles for authorization.\r\n",
    "The following code snippet creates an API App Registration in AAD along with the appropriate\r\n",
    "app roles.\r\n",
    "Right now the app role is hardcoded to `access_as_application`. \r\n",
    "Feel free to change this to what is appropriate for your app."
   ],
   "metadata": {}
  },
  {
   "cell_type": "code",
   "execution_count": null,
   "source": [
    "using Microsoft.Graph;\r\n",
    "\r\n",
    "var apiAppName = \"Python Auto Demo API\";\r\n",
    "\r\n",
    "var graphClient = new GraphServiceClient(GetMsalClient());\r\n",
    "var apiApp = GetApiApplication(apiAppName);\r\n",
    "\r\n",
    "var apiAppRegistration = await graphClient.Applications\r\n",
    "                            .Request()\r\n",
    "                            .AddAsync(apiApp);\r\n",
    "\r\n",
    "private async Task<string> GetTenantId()\r\n",
    "{\r\n",
    "    var organization = await graphClient.Organization\r\n",
    "                                .Request()\r\n",
    "                                .GetAsync();\r\n",
    "    return organization.FirstOrDefault().Id;\r\n",
    "}\r\n",
    "\r\n",
    "var tenantId = await GetTenantId();\r\n",
    "\r\n",
    "Console.WriteLine($\"Client Id: {apiAppRegistration.AppId}\");\r\n",
    "Console.WriteLine($\"Domain: {apiAppRegistration.PublisherDomain}\");\r\n",
    "Console.WriteLine($\"Tenant Id: {tenantId}\");\r\n",
    "\r\n",
    "private static Application GetApiApplication(string displayName) => new Application\r\n",
    "{\r\n",
    "    DisplayName = displayName,\r\n",
    "    IdentifierUris = new List<String>()\r\n",
    "    {\r\n",
    "        $\"api://{Guid.NewGuid().ToString()}\"\r\n",
    "    },\r\n",
    "    Api = new ApiApplication\r\n",
    "    {\r\n",
    "        AcceptMappedClaims = null,\r\n",
    "        KnownClientApplications = new List<Guid>()\r\n",
    "        {\r\n",
    "        },\r\n",
    "        RequestedAccessTokenVersion = 2,\r\n",
    "        PreAuthorizedApplications = new List<PreAuthorizedApplication>()\r\n",
    "        {\r\n",
    "        }\r\n",
    "    },\r\n",
    "    AppRoles = new List<AppRole> \r\n",
    "    {\r\n",
    "        new AppRole\r\n",
    "        {\r\n",
    "            Id = Guid.NewGuid(),\r\n",
    "            DisplayName = \"Access as application\",\r\n",
    "            Description = \"App Role for client application\",\r\n",
    "            IsEnabled = true,\r\n",
    "            Origin = \"Application\",\r\n",
    "            Value = \"access_as_application\",\r\n",
    "            AllowedMemberTypes = new [] {\"Application\"}\r\n",
    "        }\r\n",
    "    }  \r\n",
    "};"
   ],
   "outputs": [],
   "metadata": {
    "dotnet_interactive": {
     "language": "csharp"
    }
   }
  },
  {
   "cell_type": "markdown",
   "source": [
    "### Create the Service Principal\r\n",
    "Next we need to create a Service Principal that maps to the App Registration. \r\n",
    "This registers the app with the current Tenant and makes the App available to \r\n",
    "the rest of the tenant's apps and users to authenticate against and/or acquire \r\n",
    "tokens."
   ],
   "metadata": {}
  },
  {
   "cell_type": "code",
   "execution_count": null,
   "source": [
    "using Microsoft.Graph;\r\n",
    "\r\n",
    "var servicePrincipal = await graphClient.ServicePrincipals\r\n",
    "                        .Request()\r\n",
    "                        .AddAsync(CreateServicePrincipal(apiAppRegistration.AppId));\r\n",
    "\r\n",
    "private static ServicePrincipal CreateServicePrincipal(string appId) => new ServicePrincipal\r\n",
    "{    \r\n",
    "    AppId = appId\r\n",
    "};"
   ],
   "outputs": [],
   "metadata": {
    "dotnet_interactive": {
     "language": "csharp"
    }
   }
  },
  {
   "cell_type": "markdown",
   "source": [
    "### Console/Deamon App App Registration [Optional]\r\n",
    "Create a client App Registration for a console app that signs in users interactively (.NET, Node, Java etc).\r\n",
    "\r\n",
    "Users signing in to the client app, will be able to request an access token for the API ().\r\n",
    "You'll need to set the following two properties before running this script:\r\n",
    "- `clientAppName` -> the name for your App Registration\r\n",
    "- `redirectUri` -> the URI where your app expects the returned tokens. For desktop apps you can use the MSAL one or a custom such as: \r\n",
    "`http://localhost`"
   ],
   "metadata": {}
  },
  {
   "cell_type": "code",
   "execution_count": null,
   "source": [
    "using Microsoft.Graph;\r\n",
    "\r\n",
    "var clientAppName = \"Python auto Demo Console\";\r\n",
    "\r\n",
    "var clientApp = GetClientApplication(\r\n",
    "    apiAppRegistration,\r\n",
    "    clientAppName);\r\n",
    "\r\n",
    "var consoleAppRegistration = await graphClient.Applications\r\n",
    "                                .Request()\r\n",
    "                                .AddAsync(clientApp);\r\n",
    "\r\n",
    "Console.WriteLine($\"Client Id: {consoleAppRegistration.AppId}\");\r\n",
    "Console.WriteLine($\"Domain: {consoleAppRegistration.PublisherDomain}\");\r\n",
    "Console.WriteLine($\"Tenant Id: {tenantId}\");\r\n",
    "                           \r\n",
    "private static Application GetClientApplication(Application app,string displayName) \r\n",
    "    => new Application\r\n",
    "{\r\n",
    "    DisplayName = displayName,\r\n",
    "    RequiredResourceAccess = new List<RequiredResourceAccess>()\r\n",
    "    {\r\n",
    "        new RequiredResourceAccess\r\n",
    "        {\r\n",
    "            ResourceAppId = app.AppId,\r\n",
    "            ResourceAccess = new List<ResourceAccess>()\r\n",
    "            {\r\n",
    "                new ResourceAccess\r\n",
    "                {\r\n",
    "                    Id = app.AppRoles.FirstOrDefault().Id,\r\n",
    "                    Type = \"Role\"\r\n",
    "                }\r\n",
    "            }\r\n",
    "        },\r\n",
    "        new RequiredResourceAccess\r\n",
    "        {\r\n",
    "            // OIDC-Graph scope (user.read)\r\n",
    "            ResourceAppId = \"00000003-0000-0000-c000-000000000000\",\r\n",
    "            ResourceAccess = new List<ResourceAccess>()\r\n",
    "            {\r\n",
    "                new ResourceAccess\r\n",
    "                {     \r\n",
    "                    Id = new Guid(\"e1fe6dd8ba314d6189e788639da4683d\"),\r\n",
    "                    Type = \"Scope\"\r\n",
    "                }\r\n",
    "            }\r\n",
    "        }\r\n",
    "    } \r\n",
    "};"
   ],
   "outputs": [],
   "metadata": {
    "dotnet_interactive": {
     "language": "csharp"
    }
   }
  },
  {
   "cell_type": "markdown",
   "source": [
    "### Add a client secret"
   ],
   "metadata": {}
  },
  {
   "cell_type": "code",
   "execution_count": null,
   "source": [
    "using Microsoft.Graph;\r\n",
    "\r\n",
    "var passwordCredential = new PasswordCredential\r\n",
    "{\r\n",
    "\tDisplayName = \"delete me\"\r\n",
    "};\r\n",
    "\r\n",
    "var credential = await graphClient.Applications[$\"{consoleAppRegistration.Id}\"]\r\n",
    "\t.AddPassword(passwordCredential)\r\n",
    "\t.Request()\r\n",
    "\t.PostAsync();\r\n",
    "\r\n",
    "Console.WriteLine($\"Client Secret: {credential.SecretText}\");"
   ],
   "outputs": [],
   "metadata": {
    "dotnet_interactive": {
     "language": "csharp"
    }
   }
  }
 ],
 "metadata": {
  "kernelspec": {
   "display_name": ".NET (C#)",
   "language": "C#",
   "name": ".net-csharp"
  },
  "language_info": {
   "file_extension": ".cs",
   "mimetype": "text/x-csharp",
   "name": "C#",
   "pygments_lexer": "csharp",
   "version": "9.0"
  }
 },
 "nbformat": 4,
 "nbformat_minor": 2
}